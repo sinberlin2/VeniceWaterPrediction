{
 "cells": [
  {
   "cell_type": "code",
   "execution_count": 2,
   "metadata": {},
   "outputs": [],
   "source": [
    "import pandas as pd\n",
    "import numpy as np# linear algebra\n",
    "from numpy import nan\n",
    "from numpy import array\n",
    "#from mpl_toolkits.mplot3d import Axes3D\n",
    "#from sklearn.preprocessing import StandardScaler\n",
    "import matplotlib.pyplot as plt # plotting\n",
    "import os # accessing directory structure\n"
   ]
  },
  {
   "cell_type": "code",
   "execution_count": 3,
   "metadata": {},
   "outputs": [
    {
     "name": "stdout",
     "output_type": "stream",
     "text": [
      "                       wh  temp\n",
      "datetime                       \n",
      "2020-10-01 23:20:00  0.51  10.6\n",
      "2020-10-01 23:30:00  0.51  10.5\n",
      "2020-10-01 23:40:00  0.51  10.4\n",
      "2020-10-01 23:50:00  0.50  10.2\n",
      "2020-11-01 00:00:00  0.50  10.1\n"
     ]
    }
   ],
   "source": [
    "#already dropped NA's\n",
    "#sorted entries by date\n",
    "dataset = pd.read_csv('venice_new.csv', header=0, infer_datetime_format=True, parse_dates=['datetime'], index_col=['datetime'])\n",
    "\n",
    "print(dataset.tail())"
   ]
  },
  {
   "cell_type": "markdown",
   "metadata": {},
   "source": [
    "# Preprocessing data \n",
    "https://machinelearningmastery.com/how-to-load-and-explore-household-electricity-usage-data/"
   ]
  },
  {
   "cell_type": "code",
   "execution_count": 9,
   "metadata": {},
   "outputs": [],
   "source": [
    "#print(dataset_19[month].to_string())\n"
   ]
  },
  {
   "cell_type": "markdown",
   "metadata": {},
   "source": [
    "# Problem framing\n",
    "I guess we want to for example predict the temperature and water level for the next month\n"
   ]
  },
  {
   "cell_type": "markdown",
   "metadata": {},
   "source": [
    "# Approach\n",
    "Classical linear methods include techniques are very effective for univariate time series forecasting. SARIMA\n",
    "or\n",
    "Deep Learning CNN LSTM and ConvLSTM"
   ]
  },
  {
   "cell_type": "markdown",
   "metadata": {},
   "source": [
    "# Try DL LSTM of course \n",
    "https://machinelearningmastery.com/how-to-develop-lstm-models-for-multi-step-time-series-forecasting-of-household-power-consumption/\n",
    "#maybe group the data by day\n",
    "#then split the data into week chunks\n"
   ]
  },
  {
   "cell_type": "code",
   "execution_count": 4,
   "metadata": {},
   "outputs": [],
   "source": [
    "daily_groups = dataset.resample('D')\n",
    "daily_data = daily_groups.mean()\n",
    "#print(daily_data.to_string())"
   ]
  },
  {
   "cell_type": "code",
   "execution_count": 14,
   "metadata": {},
   "outputs": [],
   "source": [
    "#Even though there are only a few periods where there are daily measurements. I will interpolate the data. "
   ]
  },
  {
   "cell_type": "code",
   "execution_count": 5,
   "metadata": {},
   "outputs": [],
   "source": [
    "# Interpolate the dataset based on previous/next values..\n",
    "#This works super good. it's like a gradual inference of the data points\n",
    "def impute_interpolate(dataset, col):\n",
    "    dataset[col] = dataset[col].interpolate()\n",
    "    # And fill the initial data points if needed:\n",
    "    dataset[col] = dataset[col].fillna(method='bfill')\n",
    "    return dataset"
   ]
  },
  {
   "cell_type": "code",
   "execution_count": 6,
   "metadata": {},
   "outputs": [],
   "source": [
    "data= impute_interpolate(dataset=dataset, col='wh')\n",
    "data= impute_interpolate(dataset=data, col='temp')"
   ]
  },
  {
   "cell_type": "code",
   "execution_count": 7,
   "metadata": {},
   "outputs": [],
   "source": [
    "daily_data= data\n",
    "#print(daily_data.to_string())"
   ]
  },
  {
   "cell_type": "markdown",
   "metadata": {},
   "source": [
    "# Outlier Detection and Imputation "
   ]
  },
  {
   "cell_type": "code",
   "execution_count": 22,
   "metadata": {},
   "outputs": [],
   "source": [
    "# ok so basically using the kalman diter didnt have much of an effect, at least based on v rough visual inspection.\n",
    "#Mostly smoothes values. Could have also used kalman instead of interpolation. "
   ]
  },
  {
   "cell_type": "markdown",
   "metadata": {},
   "source": [
    "# Prepare data for Learning"
   ]
  },
  {
   "cell_type": "code",
   "execution_count": 23,
   "metadata": {},
   "outputs": [],
   "source": [
    "# # now we just split it off. but actually we should take random weeks \n",
    "# dataset=data\n",
    "# training_frac=0.7\n",
    "# features=':'\n",
    "# end_training_set = int(training_frac * len(dataset.index))\n",
    "# training_set_X = dataset.ix[0:end_training_set]\n",
    "# training_set_y = dataset.ix[0:end_training_set]\n",
    "# test_set_X = dataset.ix[end_training_set:len(dataset.index)]\n",
    "# test_set_y = dataset.ix[end_training_set:len(dataset.index)]\n",
    "# print(len(test_set_X))\n",
    "# print(len(training_set_X))\n",
    "\n"
   ]
  },
  {
   "cell_type": "code",
   "execution_count": null,
   "metadata": {},
   "outputs": [],
   "source": [
    "### Split dataset"
   ]
  },
  {
   "cell_type": "code",
   "execution_count": 9,
   "metadata": {},
   "outputs": [],
   "source": [
    "# split a univariate dataset into train/test sets\n",
    "def split_dataset(data):\n",
    "\tdata= data[:(int(len(data)/7))]\n",
    "\ttest_size= int(len(data)*0.3)\n",
    "\ttrain, test = data[1:-test_size], data[-test_size:-6]\n",
    "\t# restructure into windows of weekly data\n",
    "\ttrain= np.array(train) #if we dont convert here, it doesnt work or a list of dataframes comes out (without the second np.array)\n",
    "\ttest= np.array(test)\n",
    "\ttrain = np.array(np.split(train, len(train)/7)) # if we dont put the np.array here a list of numpy arrays comes out\n",
    "\ttest = np.array(np.split(test, len(test)/7))\n",
    "\treturn train, test"
   ]
  },
  {
   "cell_type": "code",
   "execution_count": 10,
   "metadata": {},
   "outputs": [
    {
     "name": "stdout",
     "output_type": "stream",
     "text": [
      "(191, 7, 2)\n",
      "(81, 7, 2)\n"
     ]
    }
   ],
   "source": [
    "train, test = split_dataset(data.values)\n",
    "# validate train data\n",
    "print(train.shape)\n",
    "# validate test\n",
    "print(test.shape)"
   ]
  },
  {
   "cell_type": "code",
   "execution_count": null,
   "metadata": {},
   "outputs": [],
   "source": [
    "# get weeks with forecast"
   ]
  },
  {
   "cell_type": "code",
   "execution_count": 9,
   "metadata": {},
   "outputs": [
    {
     "ename": "NameError",
     "evalue": "name 'to_supervised' is not defined",
     "output_type": "error",
     "traceback": [
      "\u001b[1;31m---------------------------------------------------------------------------\u001b[0m",
      "\u001b[1;31mNameError\u001b[0m                                 Traceback (most recent call last)",
      "\u001b[1;32m<ipython-input-9-6a3f58d040ec>\u001b[0m in \u001b[0;36m<module>\u001b[1;34m()\u001b[0m\n\u001b[0;32m      1\u001b[0m \u001b[1;31m#so we put in a week and try to get out a week\u001b[0m\u001b[1;33m\u001b[0m\u001b[1;33m\u001b[0m\u001b[0m\n\u001b[1;32m----> 2\u001b[1;33m \u001b[0mdata_X\u001b[0m\u001b[1;33m,\u001b[0m \u001b[0mdata_y\u001b[0m \u001b[1;33m=\u001b[0m \u001b[0mto_supervised\u001b[0m\u001b[1;33m(\u001b[0m\u001b[0mtrain\u001b[0m\u001b[1;33m,\u001b[0m \u001b[0mn_input\u001b[0m\u001b[1;33m=\u001b[0m\u001b[1;36m7\u001b[0m\u001b[1;33m,\u001b[0m \u001b[0mn_out\u001b[0m\u001b[1;33m=\u001b[0m\u001b[1;36m7\u001b[0m\u001b[1;33m)\u001b[0m\u001b[1;33m\u001b[0m\u001b[0m\n\u001b[0m",
      "\u001b[1;31mNameError\u001b[0m: name 'to_supervised' is not defined"
     ]
    }
   ],
   "source": [
    "#so we put in a week and try to get out a week\n",
    "data_X, data_y = to_supervised(train, n_input=7, n_out=7)"
   ]
  },
  {
   "cell_type": "code",
   "execution_count": 29,
   "metadata": {},
   "outputs": [
    {
     "data": {
      "text/plain": [
       "(1569, 7, 1)"
      ]
     },
     "execution_count": 29,
     "metadata": {},
     "output_type": "execute_result"
    }
   ],
   "source": [
    "data_X.shape"
   ]
  },
  {
   "cell_type": "code",
   "execution_count": 10,
   "metadata": {},
   "outputs": [],
   "source": [
    "#this makes the sliding windows I think \n",
    "# convert history into inputs and outputs\n",
    "def to_supervised(train, n_input, n_out=7):\n",
    "\t# flatten data\n",
    "\tdata = train.reshape((train.shape[0]*train.shape[1], train.shape[2]))\n",
    "\tX, y = list(), list()\n",
    "\tin_start = 0\n",
    "\t# step over the entire history one time step at a time\n",
    "\tfor _ in range(len(data)):\n",
    "\t\t# define the end of the input sequence\n",
    "\t\tin_end = in_start + n_input\n",
    "\t\tout_end = in_end + n_out\n",
    "\t\t# ensure we have enough data for this instance\n",
    "\t\tif out_end <= len(data):\n",
    "\t\t\tx_input = data[in_start:in_end, 0]\n",
    "\t\t\tx_input = x_input.reshape((len(x_input), 1))\n",
    "\t\t\tX.append(x_input)\n",
    "\t\t\ty.append(data[in_end:out_end, 0])\n",
    "\t\t# move along one time step\n",
    "\t\tin_start += 1\n",
    "\treturn array(X), array(y)"
   ]
  },
  {
   "cell_type": "code",
   "execution_count": 15,
   "metadata": {},
   "outputs": [
    {
     "name": "stderr",
     "output_type": "stream",
     "text": [
      "C:\\Users\\doyle\\Anaconda3\\lib\\site-packages\\h5py\\__init__.py:34: FutureWarning: Conversion of the second argument of issubdtype from `float` to `np.floating` is deprecated. In future, it will be treated as `np.float64 == np.dtype(float).type`.\n",
      "  from ._conv import register_converters as _register_converters\n"
     ]
    }
   ],
   "source": [
    "# univariate multi-step lstm\n",
    "from math import sqrt\n",
    " \n",
    "from sklearn.metrics import mean_squared_error\n",
    "from matplotlib import pyplot\n"
   ]
  },
  {
   "cell_type": "code",
   "execution_count": 11,
   "metadata": {},
   "outputs": [],
   "source": [
    "# evaluate one or more weekly forecasts against expected values\n",
    "def evaluate_forecasts(actual, predicted):\n",
    "\tscores = list()\n",
    "\t# calculate an RMSE score for each day\n",
    "\tfor i in range(actual.shape[1]):\n",
    "\t\t# calculate mse\n",
    "\t\tmse = mean_squared_error(actual[:, i], predicted[:, i])\n",
    "\t\t# calculate rmse\n",
    "\t\trmse = sqrt(mse)\n",
    "\t\t# store\n",
    "\t\tscores.append(rmse)\n",
    "\t# calculate overall RMSE\n",
    "\ts = 0\n",
    "\tfor row in range(actual.shape[0]):\n",
    "\t\tfor col in range(actual.shape[1]):\n",
    "\t\t\ts += (actual[row, col] - predicted[row, col])**2\n",
    "\tscore = sqrt(s / (actual.shape[0] * actual.shape[1]))\n",
    "\treturn score, scores\n",
    " \n",
    "# summarize scores\n",
    "def summarize_scores(name, score, scores):\n",
    "\ts_scores = ', '.join(['%.1f' % s for s in scores])\n",
    "\tprint('%s: [%.3f] %s' % (name, score, s_scores))"
   ]
  },
  {
   "cell_type": "code",
   "execution_count": 12,
   "metadata": {},
   "outputs": [],
   "source": [
    "# train the model\n",
    "def build_model(train, n_input):\n",
    "\t# prepare data\n",
    "\ttrain_x, train_y = to_supervised(train, n_input)\n",
    "\t# define parameters\n",
    "\tverbose, epochs, batch_size = 0, 70, 16\n",
    "\tn_timesteps, n_features, n_outputs = train_x.shape[1], train_x.shape[2], train_y.shape[1]\n",
    "\t# define model\n",
    "\tmodel = Sequential()\n",
    "\tmodel.add(LSTM(200, activation='relu', input_shape=(n_timesteps, n_features)))\n",
    "\tmodel.add(Dense(100, activation='relu'))\n",
    "\tmodel.add(Dense(n_outputs))\n",
    "\tmodel.compile(loss='mse', optimizer='adam')\n",
    "\t# fit network\n",
    "\tmodel.fit(train_x, train_y, epochs=epochs, batch_size=batch_size, verbose=verbose)\n",
    "\treturn model\n",
    " \n",
    "# make a forecast\n",
    "def forecast(model, history, n_input):\n",
    "\t# flatten data\n",
    "\tdata = array(history)\n",
    "\tdata = data.reshape((data.shape[0]*data.shape[1], data.shape[2]))\n",
    "\t# retrieve last observations for input data\n",
    "\tinput_x = data[-n_input:, 0]\n",
    "\t# reshape into [1, n_input, 1]\n",
    "\tinput_x = input_x.reshape((1, len(input_x), 1))\n",
    "\t# forecast the next week\n",
    "\tyhat = model.predict(input_x, verbose=0)\n",
    "\t# we only want the vector forecast\n",
    "\tyhat = yhat[0]\n",
    "\treturn yhat\n",
    " \n",
    "# evaluate a single model\n",
    "def evaluate_model(train, test, n_input):\n",
    "\t# fit model\n",
    "\tmodel = build_model(train, n_input)\n",
    "\t# history is a list of weekly data\n",
    "\thistory = [x for x in train]\n",
    "\t# walk-forward validation over each week\n",
    "\tpredictions = list()\n",
    "\tfor i in range(len(test)):\n",
    "\t\t# predict the week\n",
    "\t\tyhat_sequence = forecast(model, history, n_input)\n",
    "\t\t# store the predictions\n",
    "\t\tpredictions.append(yhat_sequence)\n",
    "\t\t# get real observation and add to history for predicting the next week\n",
    "\t\thistory.append(test[i, :])\n",
    "\t# evaluate predictions days for each week\n",
    "\tpredictions = array(predictions)\n",
    "\tscore, scores = evaluate_forecasts(test[:, :, 0], predictions)\n",
    "\treturn score, scores"
   ]
  },
  {
   "cell_type": "code",
   "execution_count": 16,
   "metadata": {},
   "outputs": [
    {
     "name": "stdout",
     "output_type": "stream",
     "text": [
      "lstm: [0.045] 0.0, 0.0, 0.0, 0.0, 0.1, 0.1, 0.1\n"
     ]
    },
    {
     "data": {
      "image/png": "[encoded data removed]",
      "text/plain": [
       "<Figure size 432x288 with 1 Axes>"
      ]
     },
     "metadata": {
      "needs_background": "light"
     },
     "output_type": "display_data"
    }
   ],
   "source": [
    "# # load the new file\n",
    "# dataset = read_csv('household_power_consumption_days.csv', header=0, infer_datetime_format=True, parse_dates=['datetime'], index_col=['datetime'])\n",
    "# # split into train and test\n",
    "# train, test = split_dataset(dataset.values)\n",
    "# # evaluate model and get scores\n",
    "n_input = 7\n",
    "score, scores = evaluate_model(train, test, n_input)\n",
    "# summarize scores\n",
    "summarize_scores('lstm', score, scores)\n",
    "# plot scores\n",
    "days = ['sun', 'mon', 'tue', 'wed', 'thr', 'fri', 'sat']\n",
    "pyplot.plot(days, scores, marker='o', label='lstm')\n",
    "pyplot.show()"
   ]
  },
  {
   "cell_type": "code",
   "execution_count": 17,
   "metadata": {},
   "outputs": [
    {
     "name": "stdout",
     "output_type": "stream",
     "text": [
      "0.044559534190630565 [0.01338532677584649, 0.027298564239541308, 0.032464001695585894, 0.03636929813585339, 0.05351009791776316, 0.059683588643199975, 0.06459402018051175]\n"
     ]
    }
   ],
   "source": [
    "print(score, scores)\n"
   ]
  },
  {
   "cell_type": "markdown",
   "metadata": {},
   "source": [
    "## Now I will try to do it in Pytorch\n",
    "https://stackabuse.com/time-series-prediction-using-lstm-with-pytorch-in-python/"
   ]
  },
  {
   "cell_type": "code",
   "execution_count": 14,
   "metadata": {},
   "outputs": [],
   "source": [
    "import torch\n",
    "import torch.nn as nn\n",
    "\n",
    "import seaborn as sns\n",
    "\n"
   ]
  },
  {
   "cell_type": "markdown",
   "metadata": {},
   "source": [
    "## Split the data"
   ]
  },
  {
   "cell_type": "code",
   "execution_count": 113,
   "metadata": {},
   "outputs": [
    {
     "name": "stdout",
     "output_type": "stream",
     "text": [
      "4014\n",
      "                       wh  temp\n",
      "datetime                       \n",
      "2019-01-11 00:00:00  0.45  16.4\n",
      "2019-01-11 00:10:00  0.46  16.4\n",
      "2019-01-11 00:20:00  0.47  16.3\n",
      "2019-01-11 00:30:00  0.48  16.3\n",
      "2019-01-11 00:40:00  0.49  16.2\n",
      "2019-01-11 00:50:00  0.49  16.2\n",
      "2019-01-11 01:00:00  0.49  16.2\n",
      "2019-01-11 01:10:00  0.49  16.2\n",
      "2019-01-11 01:20:00  0.50  16.2\n",
      "2019-01-11 01:30:00  0.50  16.2\n",
      "2019-01-11 01:40:00  0.49  16.2\n",
      "2019-01-11 01:50:00  0.49  16.1\n",
      "2019-01-11 02:00:00  0.49  16.2\n",
      "2019-01-11 02:10:00  0.48  16.1\n",
      "2019-01-11 02:20:00  0.48  16.1\n",
      "2019-01-11 02:30:00  0.48  16.2\n",
      "2019-01-11 02:40:00  0.48  16.2\n",
      "2019-01-11 02:50:00  0.47  16.1\n",
      "2019-01-11 03:00:00  0.45  16.1\n",
      "2019-01-11 03:10:00  0.44  16.1\n",
      "2019-01-11 03:20:00  0.43  16.1\n",
      "2019-01-11 03:30:00  0.41  16.1\n",
      "2019-01-11 03:40:00  0.40  16.1\n",
      "2019-01-11 03:50:00  0.39  16.1\n",
      "2019-01-11 04:00:00  0.37  16.1\n",
      "2019-01-11 04:10:00  0.36  16.1\n",
      "2019-01-11 04:20:00  0.35  16.0\n",
      "2019-01-11 04:30:00  0.34  16.0\n",
      "2019-01-11 04:40:00  0.33  16.0\n",
      "2019-01-11 04:50:00  0.33  16.0\n",
      "...                   ...   ...\n",
      "2019-12-13 21:20:00  0.71   9.4\n",
      "2019-12-13 21:30:00  0.73   9.5\n",
      "2019-12-13 21:40:00  0.74   9.5\n",
      "2019-12-13 21:50:00  0.77   9.5\n",
      "2019-12-13 22:00:00  0.80   9.5\n",
      "2019-12-13 22:10:00  0.81   9.4\n",
      "2019-12-13 22:20:00  0.83   9.4\n",
      "2019-12-13 22:30:00  0.82   9.4\n",
      "2019-12-13 22:40:00  0.82   9.4\n",
      "2019-12-13 22:50:00  0.82   9.5\n",
      "2019-12-13 23:00:00  0.81   9.5\n",
      "2019-12-13 23:10:00  0.79   9.5\n",
      "2019-12-13 23:20:00  0.77   9.4\n",
      "2019-12-13 23:30:00  0.75   9.4\n",
      "2019-12-13 23:40:00  0.73   9.4\n",
      "2019-12-13 23:50:00  0.71   9.4\n",
      "2019-12-14 00:00:00  0.69   9.3\n",
      "2019-12-14 00:10:00  0.67   9.3\n",
      "2019-12-14 00:20:00  0.65   9.3\n",
      "2019-12-14 00:30:00  0.64   9.3\n",
      "2019-12-14 00:40:00  0.63   9.3\n",
      "2019-12-14 00:50:00  0.62   9.2\n",
      "2019-12-14 01:00:00  0.62   9.2\n",
      "2019-12-14 01:10:00  0.62   9.1\n",
      "2019-12-14 01:20:00  0.62   9.1\n",
      "2019-12-14 01:30:00  0.62   9.1\n",
      "2019-12-14 01:40:00  0.62   9.2\n",
      "2019-12-14 01:50:00  0.61   9.2\n",
      "2019-12-14 02:00:00  0.61   9.2\n",
      "2019-12-14 02:10:00  0.61   9.3\n",
      "\n",
      "[9365 rows x 2 columns]\n"
     ]
    }
   ],
   "source": [
    "test_data_size = round(len(dataset)*0.3) \n",
    "print(test_data_size)\n",
    "\n",
    "train_data = dataset[:-test_data_size]\n",
    "test_data = dataset[-test_data_size:]\n",
    "\n",
    "#train_data= np.array(train_data)\n",
    "#test_data= np.array(test_data)\n",
    "\n",
    "train_data.shape\n",
    "type(train_data)\n",
    "print(train_data)\n"
   ]
  },
  {
   "cell_type": "code",
   "execution_count": 114,
   "metadata": {},
   "outputs": [
    {
     "data": {
      "text/plain": [
       "torch.Size([9365, 2])"
      ]
     },
     "execution_count": 114,
     "metadata": {},
     "output_type": "execute_result"
    }
   ],
   "source": [
    "#convert to numpy and then to tensor\n",
    "\n",
    "tmp = train_data.values\n",
    "train_data = torch.from_numpy(tmp).float()\n",
    "train_data.shape"
   ]
  },
  {
   "cell_type": "code",
   "execution_count": 24,
   "metadata": {},
   "outputs": [],
   "source": [
    "#convert to tensor \n",
    "#train_data_normalized = torch.FloatTensor(train).view(-1) #I think the flattenign was not necessart"
   ]
  },
  {
   "cell_type": "code",
   "execution_count": 27,
   "metadata": {},
   "outputs": [
    {
     "name": "stdout",
     "output_type": "stream",
     "text": [
      "tensor([[ 0.4500, 16.4000],\n",
      "        [ 0.4600, 16.4000],\n",
      "        [ 0.4700, 16.3000],\n",
      "        [ 0.4800, 16.3000],\n",
      "        [ 0.4900, 16.2000]], dtype=torch.float64)\n"
     ]
    }
   ],
   "source": [
    "print(train_data[:5])\n"
   ]
  },
  {
   "cell_type": "code",
   "execution_count": 115,
   "metadata": {},
   "outputs": [],
   "source": [
    "#returns a list of tuples\n",
    "def create_inout_sequences(input_data, tw):\n",
    "    inout_seq = []\n",
    "    L = len(input_data)\n",
    "    for i in range(L-tw):\n",
    "        train_seq = input_data[i:i+tw]\n",
    "        train_label = input_data[i+tw:i+tw+1]  # the label is sort o f the predicted. so all of of the predictions become one time longet now? \n",
    "        inout_seq.append((train_seq ,train_label))  #tuple containing the 7 days values and the next value \n",
    "    return inout_seq"
   ]
  },
  {
   "cell_type": "code",
   "execution_count": 116,
   "metadata": {},
   "outputs": [],
   "source": [
    "train_window=7\n",
    "train_inout_seq = create_inout_sequences(train_data, train_window) #\n"
   ]
  },
  {
   "cell_type": "code",
   "execution_count": 30,
   "metadata": {},
   "outputs": [
    {
     "name": "stdout",
     "output_type": "stream",
     "text": [
      "[(tensor([[0.6500, 9.3000],\n",
      "        [0.6400, 9.3000],\n",
      "        [0.6300, 9.3000],\n",
      "        [0.6200, 9.2000],\n",
      "        [0.6200, 9.2000],\n",
      "        [0.6200, 9.1000],\n",
      "        [0.6200, 9.1000]], dtype=torch.float64), tensor([[0.6200, 9.1000]], dtype=torch.float64)), (tensor([[0.6400, 9.3000],\n",
      "        [0.6300, 9.3000],\n",
      "        [0.6200, 9.2000],\n",
      "        [0.6200, 9.2000],\n",
      "        [0.6200, 9.1000],\n",
      "        [0.6200, 9.1000],\n",
      "        [0.6200, 9.1000]], dtype=torch.float64), tensor([[0.6200, 9.2000]], dtype=torch.float64)), (tensor([[0.6300, 9.3000],\n",
      "        [0.6200, 9.2000],\n",
      "        [0.6200, 9.2000],\n",
      "        [0.6200, 9.1000],\n",
      "        [0.6200, 9.1000],\n",
      "        [0.6200, 9.1000],\n",
      "        [0.6200, 9.2000]], dtype=torch.float64), tensor([[0.6100, 9.2000]], dtype=torch.float64)), (tensor([[0.6200, 9.2000],\n",
      "        [0.6200, 9.2000],\n",
      "        [0.6200, 9.1000],\n",
      "        [0.6200, 9.1000],\n",
      "        [0.6200, 9.1000],\n",
      "        [0.6200, 9.2000],\n",
      "        [0.6100, 9.2000]], dtype=torch.float64), tensor([[0.6100, 9.2000]], dtype=torch.float64)), (tensor([[0.6200, 9.2000],\n",
      "        [0.6200, 9.1000],\n",
      "        [0.6200, 9.1000],\n",
      "        [0.6200, 9.1000],\n",
      "        [0.6200, 9.2000],\n",
      "        [0.6100, 9.2000],\n",
      "        [0.6100, 9.2000]], dtype=torch.float64), tensor([[0.6100, 9.3000]], dtype=torch.float64))]\n"
     ]
    }
   ],
   "source": [
    "print(train_inout_seq[-5:])"
   ]
  },
  {
   "cell_type": "code",
   "execution_count": 117,
   "metadata": {},
   "outputs": [],
   "source": [
    "class LSTM(nn.Module):\n",
    "    def __init__(self, input_size=2, hidden_layer_size=100, output_size=2):\n",
    "        super().__init__()\n",
    "        self.hidden_layer_size = hidden_layer_size\n",
    "\n",
    "        self.lstm = nn.LSTM(input_size, hidden_layer_size)\n",
    "\n",
    "        self.linear = nn.Linear(hidden_layer_size, output_size)\n",
    "\n",
    "        self.hidden_cell = (torch.zeros(1,1,self.hidden_layer_size),\n",
    "                            torch.zeros(1,1,self.hidden_layer_size))\n",
    "\n",
    "    def forward(self, input_seq):\n",
    "        input=input_seq.view(len(input_seq), 1,-1)\n",
    "        lstm_out, self.hidden_cell = self.lstm(input, self.hidden_cell)\n",
    "        predictions = self.linear(lstm_out.view(len(input_seq),-1))\n",
    "        return predictions"
   ]
  },
  {
   "cell_type": "code",
   "execution_count": 118,
   "metadata": {},
   "outputs": [],
   "source": [
    "model = LSTM()\n",
    "loss_function = nn.MSELoss()\n",
    "optimizer = torch.optim.Adam(model.parameters(), lr=0.001)"
   ]
  },
  {
   "cell_type": "code",
   "execution_count": 119,
   "metadata": {},
   "outputs": [
    {
     "name": "stderr",
     "output_type": "stream",
     "text": [
      "C:\\Users\\doyle\\Anaconda3\\lib\\site-packages\\torch\\nn\\modules\\loss.py:431: UserWarning: Using a target size (torch.Size([1, 2])) that is different to the input size (torch.Size([7, 2])). This will likely lead to incorrect results due to broadcasting. Please ensure they have the same size.\n",
      "  return F.mse_loss(input, target, reduction=self.reduction)\n"
     ]
    },
    {
     "ename": "KeyboardInterrupt",
     "evalue": "",
     "output_type": "error",
     "traceback": [
      "\u001b[1;31m---------------------------------------------------------------------------\u001b[0m",
      "\u001b[1;31mKeyboardInterrupt\u001b[0m                         Traceback (most recent call last)",
      "\u001b[1;32m<ipython-input-119-aed397e55465>\u001b[0m in \u001b[0;36m<module>\u001b[1;34m()\u001b[0m\n\u001b[0;32m     12\u001b[0m \u001b[1;33m\u001b[0m\u001b[0m\n\u001b[0;32m     13\u001b[0m         \u001b[0msingle_loss\u001b[0m \u001b[1;33m=\u001b[0m \u001b[0mloss_function\u001b[0m\u001b[1;33m(\u001b[0m\u001b[0my_pred\u001b[0m\u001b[1;33m,\u001b[0m \u001b[0mlabels\u001b[0m\u001b[1;33m)\u001b[0m\u001b[1;33m\u001b[0m\u001b[0m\n\u001b[1;32m---> 14\u001b[1;33m         \u001b[0msingle_loss\u001b[0m\u001b[1;33m.\u001b[0m\u001b[0mbackward\u001b[0m\u001b[1;33m(\u001b[0m\u001b[1;33m)\u001b[0m\u001b[1;33m\u001b[0m\u001b[0m\n\u001b[0m\u001b[0;32m     15\u001b[0m         \u001b[0moptimizer\u001b[0m\u001b[1;33m.\u001b[0m\u001b[0mstep\u001b[0m\u001b[1;33m(\u001b[0m\u001b[1;33m)\u001b[0m\u001b[1;33m\u001b[0m\u001b[0m\n\u001b[0;32m     16\u001b[0m \u001b[1;33m\u001b[0m\u001b[0m\n",
      "\u001b[1;32m~\\Anaconda3\\lib\\site-packages\\torch\\tensor.py\u001b[0m in \u001b[0;36mbackward\u001b[1;34m(self, gradient, retain_graph, create_graph)\u001b[0m\n\u001b[0;32m    148\u001b[0m                 \u001b[0mproducts\u001b[0m\u001b[1;33m.\u001b[0m \u001b[0mDefaults\u001b[0m \u001b[0mto\u001b[0m\u001b[0;31m \u001b[0m\u001b[0;31m`\u001b[0m\u001b[0;31m`\u001b[0m\u001b[1;32mFalse\u001b[0m\u001b[0;31m`\u001b[0m\u001b[0;31m`\u001b[0m\u001b[1;33m.\u001b[0m\u001b[1;33m\u001b[0m\u001b[0m\n\u001b[0;32m    149\u001b[0m         \"\"\"\n\u001b[1;32m--> 150\u001b[1;33m         \u001b[0mtorch\u001b[0m\u001b[1;33m.\u001b[0m\u001b[0mautograd\u001b[0m\u001b[1;33m.\u001b[0m\u001b[0mbackward\u001b[0m\u001b[1;33m(\u001b[0m\u001b[0mself\u001b[0m\u001b[1;33m,\u001b[0m \u001b[0mgradient\u001b[0m\u001b[1;33m,\u001b[0m \u001b[0mretain_graph\u001b[0m\u001b[1;33m,\u001b[0m \u001b[0mcreate_graph\u001b[0m\u001b[1;33m)\u001b[0m\u001b[1;33m\u001b[0m\u001b[0m\n\u001b[0m\u001b[0;32m    151\u001b[0m \u001b[1;33m\u001b[0m\u001b[0m\n\u001b[0;32m    152\u001b[0m     \u001b[1;32mdef\u001b[0m \u001b[0mregister_hook\u001b[0m\u001b[1;33m(\u001b[0m\u001b[0mself\u001b[0m\u001b[1;33m,\u001b[0m \u001b[0mhook\u001b[0m\u001b[1;33m)\u001b[0m\u001b[1;33m:\u001b[0m\u001b[1;33m\u001b[0m\u001b[0m\n",
      "\u001b[1;32m~\\Anaconda3\\lib\\site-packages\\torch\\autograd\\__init__.py\u001b[0m in \u001b[0;36mbackward\u001b[1;34m(tensors, grad_tensors, retain_graph, create_graph, grad_variables)\u001b[0m\n\u001b[0;32m     97\u001b[0m     Variable._execution_engine.run_backward(\n\u001b[0;32m     98\u001b[0m         \u001b[0mtensors\u001b[0m\u001b[1;33m,\u001b[0m \u001b[0mgrad_tensors\u001b[0m\u001b[1;33m,\u001b[0m \u001b[0mretain_graph\u001b[0m\u001b[1;33m,\u001b[0m \u001b[0mcreate_graph\u001b[0m\u001b[1;33m,\u001b[0m\u001b[1;33m\u001b[0m\u001b[0m\n\u001b[1;32m---> 99\u001b[1;33m         allow_unreachable=True)  # allow_unreachable flag\n\u001b[0m\u001b[0;32m    100\u001b[0m \u001b[1;33m\u001b[0m\u001b[0m\n\u001b[0;32m    101\u001b[0m \u001b[1;33m\u001b[0m\u001b[0m\n",
      "\u001b[1;31mKeyboardInterrupt\u001b[0m: "
     ]
    }
   ],
   "source": [
    "epochs = 50\n",
    "\n",
    "for i in range(epochs):\n",
    "    for seq, labels in train_inout_seq:\n",
    "       # seq=seq.float()\n",
    "      #  labels= labels.float()\n",
    "        optimizer.zero_grad()\n",
    "        model.hidden_cell = (torch.zeros(1, 1, model.hidden_layer_size),\n",
    "                        torch.zeros(1, 1, model.hidden_layer_size))\n",
    "\n",
    "        y_pred = model(seq)\n",
    "\n",
    "        single_loss = loss_function(y_pred, labels)\n",
    "        single_loss.backward()\n",
    "        optimizer.step()\n",
    "\n",
    "    if i%25 == 1:\n",
    "        print(f'epoch: {i:3} loss: {single_loss.item():10.8f}')\n",
    "\n",
    "print(f'epoch: {i:3} loss: {single_loss.item():10.10f}')"
   ]
  },
  {
   "cell_type": "code",
   "execution_count": null,
   "metadata": {},
   "outputs": [],
   "source": [
    "fut_pred = 7\n",
    "\n",
    "test_inputs = train_data_normalized[-train_window:].tolist()\n",
    "print(test_inputs)"
   ]
  }
 ],
 "metadata": {
  "kernelspec": {
   "display_name": "Python 3",
   "language": "python",
   "name": "python3"
  },
  "language_info": {
   "codemirror_mode": {
    "name": "ipython",
    "version": 3
   },
   "file_extension": ".py",
   "mimetype": "text/x-python",
   "name": "python",
   "nbconvert_exporter": "python",
   "pygments_lexer": "ipython3",
   "version": "3.6.3"
  }
 },
 "nbformat": 4,
 "nbformat_minor": 4
}
