{
 "cells": [
  {
   "cell_type": "code",
   "execution_count": 1,
   "metadata": {
    "collapsed": true
   },
   "outputs": [],
   "source": [
    "import pandas as pd\n",
    "import numpy as np# linear algebra\n",
    "from numpy import nan\n",
    "from numpy import array\n",
    "#from mpl_toolkits.mplot3d import Axes3D\n",
    "#from sklearn.preprocessing import StandardScaler\n",
    "import matplotlib.pyplot as plt # plotting\n",
    "import os # accessing directory structure\n"
   ]
  },
  {
   "cell_type": "code",
   "execution_count": 2,
   "metadata": {
    "collapsed": false
   },
   "outputs": [
    {
     "name": "stdout",
     "output_type": "stream",
     "text": [
      "                       wh  temp\n",
      "datetime                       \n",
      "2020-10-01 23:20:00  0.51  10.6\n",
      "2020-10-01 23:30:00  0.51  10.5\n",
      "2020-10-01 23:40:00  0.51  10.4\n",
      "2020-10-01 23:50:00  0.50  10.2\n",
      "2020-11-01 00:00:00  0.50  10.1\n"
     ]
    }
   ],
   "source": [
    "#already dropped NA's\n",
    "#sorted entries by date\n",
    "dataset = pd.read_csv('venice_new.csv', header=0, infer_datetime_format=True, parse_dates=['datetime'], index_col=['datetime'])\n",
    "\n",
    "print(dataset.tail())"
   ]
  },
  {
   "cell_type": "markdown",
   "metadata": {},
   "source": [
    "# Preprocessing data \n",
    "https://machinelearningmastery.com/how-to-load-and-explore-household-electricity-usage-data/"
   ]
  },
  {
   "cell_type": "code",
   "execution_count": 9,
   "metadata": {
    "collapsed": true
   },
   "outputs": [],
   "source": [
    "#print(dataset_19[month].to_string())\n"
   ]
  },
  {
   "cell_type": "markdown",
   "metadata": {},
   "source": [
    "# Problem framing\n",
    "I guess we want to for example predict the temperature and water level for the next month\n"
   ]
  },
  {
   "cell_type": "markdown",
   "metadata": {},
   "source": [
    "# Approach\n",
    "Classical linear methods include techniques are very effective for univariate time series forecasting. SARIMA\n",
    "or\n",
    "Deep Learning CNN LSTM and ConvLSTM"
   ]
  },
  {
   "cell_type": "markdown",
   "metadata": {},
   "source": [
    "# Try DL LSTM of course \n",
    "https://machinelearningmastery.com/how-to-develop-lstm-models-for-multi-step-time-series-forecasting-of-household-power-consumption/\n",
    "#maybe group the data by day\n",
    "#then split the data into week chunks\n"
   ]
  },
  {
   "cell_type": "code",
   "execution_count": 3,
   "metadata": {
    "collapsed": true
   },
   "outputs": [],
   "source": [
    "daily_groups = dataset.resample('D')\n",
    "daily_data = daily_groups.mean()\n",
    "#print(daily_data.to_string())"
   ]
  },
  {
   "cell_type": "code",
   "execution_count": 14,
   "metadata": {
    "collapsed": true
   },
   "outputs": [],
   "source": [
    "#Even though there are only a few periods where there are daily measurements. I will interpolate the data. "
   ]
  },
  {
   "cell_type": "markdown",
   "metadata": {},
   "source": [
    "# Outlier Detection and Imputation "
   ]
  },
  {
   "cell_type": "code",
   "execution_count": 4,
   "metadata": {
    "collapsed": true
   },
   "outputs": [],
   "source": [
    "# Interpolate the dataset based on previous/next values..\n",
    "#This works super good. it's like a gradual inference of the data points\n",
    "def impute_interpolate(dataset, col):\n",
    "    dataset[col] = dataset[col].interpolate()\n",
    "    # And fill the initial data points if needed:\n",
    "    dataset[col] = dataset[col].fillna(method='bfill')\n",
    "    return dataset"
   ]
  },
  {
   "cell_type": "code",
   "execution_count": 5,
   "metadata": {
    "collapsed": true
   },
   "outputs": [],
   "source": [
    "data= impute_interpolate(dataset=dataset, col='wh')\n",
    "data= impute_interpolate(dataset=data, col='temp')"
   ]
  },
  {
   "cell_type": "code",
   "execution_count": 8,
   "metadata": {
    "collapsed": true
   },
   "outputs": [],
   "source": [
    "daily_data= data\n",
    "#print(daily_data.to_string())"
   ]
  },
  {
   "cell_type": "code",
   "execution_count": 22,
   "metadata": {
    "collapsed": true
   },
   "outputs": [],
   "source": [
    "# ok so basically using the kalman diter didnt have much of an effect, at least based on v rough visual inspection.\n",
    "#Mostly smoothes values. Could have also used kalman instead of interpolation. "
   ]
  },
  {
   "cell_type": "markdown",
   "metadata": {},
   "source": [
    "# Prepare data for Learning"
   ]
  },
  {
   "cell_type": "code",
   "execution_count": null,
   "metadata": {
    "collapsed": true
   },
   "outputs": [],
   "source": [
    "### Split dataset"
   ]
  },
  {
   "cell_type": "code",
   "execution_count": 11,
   "metadata": {
    "collapsed": false
   },
   "outputs": [
    {
     "name": "stdout",
     "output_type": "stream",
     "text": [
      "4014\n"
     ]
    },
    {
     "data": {
      "text/plain": [
       "pandas.core.frame.DataFrame"
      ]
     },
     "execution_count": 11,
     "metadata": {},
     "output_type": "execute_result"
    }
   ],
   "source": [
    "test_data_size = round(len(dataset)*0.3) \n",
    "print(test_data_size)\n",
    "\n",
    "train_data = dataset[:-test_data_size]\n",
    "test_data = dataset[-test_data_size:]\n",
    "\n",
    "#train_data= np.array(train_data)\n",
    "#test_data= np.array(test_data)\n",
    "\n",
    "train_data.shape\n",
    "type(train_data)\n",
    "#print(train_data)\n"
   ]
  },
  {
   "cell_type": "code",
   "execution_count": 13,
   "metadata": {
    "collapsed": true
   },
   "outputs": [],
   "source": [
    "import torch\n",
    "import torch.nn as nn\n",
    "\n",
    "import seaborn as sns\n",
    "\n"
   ]
  },
  {
   "cell_type": "code",
   "execution_count": 14,
   "metadata": {
    "collapsed": false
   },
   "outputs": [
    {
     "data": {
      "text/plain": [
       "torch.Size([9365, 2])"
      ]
     },
     "execution_count": 14,
     "metadata": {},
     "output_type": "execute_result"
    }
   ],
   "source": [
    "#convert to numpy and then to tensor\n",
    "\n",
    "tmp = train_data.values\n",
    "train_data = torch.from_numpy(tmp).float()\n",
    "train_data.shape\n"
   ]
  },
  {
   "cell_type": "code",
   "execution_count": 15,
   "metadata": {
    "collapsed": false
   },
   "outputs": [
    {
     "name": "stdout",
     "output_type": "stream",
     "text": [
      "tensor([[ 0.4500, 16.4000],\n",
      "        [ 0.4600, 16.4000],\n",
      "        [ 0.4700, 16.3000],\n",
      "        [ 0.4800, 16.3000],\n",
      "        [ 0.4900, 16.2000]])\n"
     ]
    }
   ],
   "source": [
    "print(train_data[:5])\n"
   ]
  },
  {
   "cell_type": "code",
   "execution_count": null,
   "metadata": {
    "collapsed": true
   },
   "outputs": [],
   "source": [
    "# get weeks with forecast"
   ]
  },
  {
   "cell_type": "markdown",
   "metadata": {},
   "source": [
    "## Now I will try to do it in Pytorch\n",
    "https://stackabuse.com/time-series-prediction-using-lstm-with-pytorch-in-python/"
   ]
  },
  {
   "cell_type": "code",
   "execution_count": 24,
   "metadata": {
    "collapsed": true
   },
   "outputs": [],
   "source": [
    "#convert to tensor \n",
    "#train_data_normalized = torch.FloatTensor(train).view(-1) #I think the flattenign was not necessart"
   ]
  },
  {
   "cell_type": "code",
   "execution_count": 16,
   "metadata": {
    "collapsed": true
   },
   "outputs": [],
   "source": [
    "#returns a list of tuples\n",
    "def create_inout_sequences(input_data, tw):\n",
    "    inout_seq = []\n",
    "    L = len(input_data)\n",
    "    for i in range(L-tw):\n",
    "        train_seq = input_data[i:i+tw]\n",
    "        train_label = input_data[i+tw:i+tw+1]  # the label is sort o f the predicted. so all of of the predictions become one time longet now? \n",
    "        inout_seq.append((train_seq ,train_label))  #tuple containing the 7 days values and the next value \n",
    "    return inout_seq"
   ]
  },
  {
   "cell_type": "code",
   "execution_count": 17,
   "metadata": {
    "collapsed": true
   },
   "outputs": [],
   "source": [
    "train_window=7\n",
    "train_inout_seq = create_inout_sequences(train_data, train_window) #\n"
   ]
  },
  {
   "cell_type": "code",
   "execution_count": 139,
   "metadata": {
    "collapsed": false
   },
   "outputs": [
    {
     "name": "stdout",
     "output_type": "stream",
     "text": [
      "[(tensor([[0.6200, 9.2000],\n",
      "        [0.6200, 9.2000],\n",
      "        [0.6200, 9.1000],\n",
      "        [0.6200, 9.1000],\n",
      "        [0.6200, 9.1000],\n",
      "        [0.6200, 9.2000],\n",
      "        [0.6100, 9.2000]]), tensor([[0.6100, 9.2000]])), (tensor([[0.6200, 9.2000],\n",
      "        [0.6200, 9.1000],\n",
      "        [0.6200, 9.1000],\n",
      "        [0.6200, 9.1000],\n",
      "        [0.6200, 9.2000],\n",
      "        [0.6100, 9.2000],\n",
      "        [0.6100, 9.2000]]), tensor([[0.6100, 9.3000]]))]\n"
     ]
    }
   ],
   "source": [
    "print(train_inout_seq[-2:])"
   ]
  },
  {
   "cell_type": "code",
   "execution_count": 18,
   "metadata": {
    "collapsed": true
   },
   "outputs": [],
   "source": [
    "class LSTM(nn.Module):\n",
    "    def __init__(self, input_size=2, hidden_layer_size=100, output_size=2):\n",
    "        super().__init__()\n",
    "        self.hidden_layer_size = hidden_layer_size\n",
    "\n",
    "        self.lstm = nn.LSTM(input_size, hidden_layer_size)\n",
    "\n",
    "        self.linear = nn.Linear(hidden_layer_size,2 ) #output_size\n",
    "\n",
    "        self.hidden_cell = (torch.zeros(1,1,self.hidden_layer_size),\n",
    "                            torch.zeros(1,1,self.hidden_layer_size))\n",
    "\n",
    "    def forward(self, input_seq):\n",
    "        input=input_seq.view(len(input_seq), 1,-1)\n",
    "       # print(input_seq)\n",
    "        lstm_out, self.hidden_cell = self.lstm(input, self.hidden_cell)\n",
    "        lstm_out_new= lstm_out.view(input_seq.shape[0],-1)\n",
    "        predictions = self.linear(lstm_out_new)\n",
    "       # print(predictions)\n",
    "        predictions=predictions[-1]\n",
    "        predictions=predictions.view(1,2) # or maybe should squeeze?\n",
    "        return predictions"
   ]
  },
  {
   "cell_type": "code",
   "execution_count": 19,
   "metadata": {
    "collapsed": true
   },
   "outputs": [],
   "source": [
    "model = LSTM()\n",
    "loss_function = nn.MSELoss()\n",
    "optimizer = torch.optim.Adam(model.parameters(), lr=0.001)"
   ]
  },
  {
   "cell_type": "code",
   "execution_count": 20,
   "metadata": {
    "collapsed": false
   },
   "outputs": [
    {
     "name": "stdout",
     "output_type": "stream",
     "text": [
      "epoch:   1 loss: 0.00267717\n",
      "epoch:  19 loss: 0.0269205980\n"
     ]
    }
   ],
   "source": [
    "epochs = 20\n",
    "\n",
    "for i in range(epochs):\n",
    "    for seq, labels in train_inout_seq:\n",
    "       # seq=seq.float()\n",
    "      #  labels= labels.float()\n",
    "        optimizer.zero_grad()\n",
    "        model.hidden_cell = (torch.zeros(1, 1, model.hidden_layer_size),\n",
    "                        torch.zeros(1, 1, model.hidden_layer_size))\n",
    "\n",
    "        y_pred = model(seq)\n",
    "        #print(y_pred)\n",
    "        #print(labels.shape)\n",
    "\n",
    "        single_loss = loss_function(y_pred, labels)\n",
    "        single_loss.backward()\n",
    "        optimizer.step()\n",
    "\n",
    "    if i%25 == 1:\n",
    "        print(f'epoch: {i:3} loss: {single_loss.item():10.8f}')\n",
    "\n",
    "print(f'epoch: {i:3} loss: {single_loss.item():10.10f}')"
   ]
  },
  {
   "cell_type": "code",
   "execution_count": 241,
   "metadata": {
    "collapsed": false
   },
   "outputs": [
    {
     "name": "stdout",
     "output_type": "stream",
     "text": [
      "tensor([[0.6200, 9.1000],\n",
      "        [0.6200, 9.1000],\n",
      "        [0.6200, 9.1000],\n",
      "        [0.6200, 9.2000],\n",
      "        [0.6100, 9.2000],\n",
      "        [0.6100, 9.2000],\n",
      "        [0.6100, 9.3000]])\n",
      "<class 'list'>\n"
     ]
    }
   ],
   "source": [
    "#get the last 7 values from the training window\n",
    "train_window=7\n",
    "fut_pred = 7\n",
    "\n",
    "test_inputs = train_data[-train_window:]#.tolist()\n",
    "test_inputs_list= test_inputs.tolist()"
   ]
  },
  {
   "cell_type": "code",
   "execution_count": 247,
   "metadata": {
    "collapsed": true
   },
   "outputs": [],
   "source": [
    "model.eval()\n",
    "\n",
    "for i in range(fut_pred):\n",
    "    seq = torch.FloatTensor(test_inputs_list[-train_window:])\n",
    "    seq=seq.float()\n",
    "    #print(seq)\n",
    "    with torch.no_grad():\n",
    "        model.hidden = (torch.zeros(1, 1, model.hidden_layer_size),\n",
    "                        torch.zeros(1, 1, model.hidden_layer_size))\n",
    "        pred= model(seq).squeeze().tolist()  #squeeze otherwise double klammer\n",
    "        test_inputs_list.append(pred)\n",
    "        \n",
    "        "
   ]
  },
  {
   "cell_type": "code",
   "execution_count": 244,
   "metadata": {
    "collapsed": false
   },
   "outputs": [
    {
     "name": "stdout",
     "output_type": "stream",
     "text": [
      "[[0.6200000047683716, 9.100000381469727], [0.6200000047683716, 9.100000381469727], [0.6200000047683716, 9.100000381469727], [0.6200000047683716, 9.199999809265137], [0.6100000143051147, 9.199999809265137], [0.6100000143051147, 9.199999809265137], [0.6100000143051147, 9.300000190734863], [0.6054630875587463, 13.492826461791992], [0.6063072085380554, 13.503717422485352], [0.6063224077224731, 13.504024505615234], [0.6063266396522522, 13.50406265258789], [0.6063289046287537, 13.504083633422852], [0.6063303351402283, 13.504095077514648], [0.6063313484191895, 13.50410270690918], [0.6063320636749268, 13.504107475280762], [0.6063323020935059, 13.504108428955078], [0.6063323020935059, 13.504108428955078], [0.6063322424888611, 13.504108428955078], [0.6063323020935059, 13.504108428955078], [0.6063323020935059, 13.504108428955078], [0.6063323020935059, 13.504108428955078]]\n"
     ]
    }
   ],
   "source": [
    "print(test_inputs_list)"
   ]
  },
  {
   "cell_type": "code",
   "execution_count": 275,
   "metadata": {
    "collapsed": false
   },
   "outputs": [
    {
     "ename": "TypeError",
     "evalue": "expected np.ndarray (got builtin_function_or_method)",
     "output_type": "error",
     "traceback": [
      "\u001b[1;31m---------------------------------------------------------------------------\u001b[0m",
      "\u001b[1;31mTypeError\u001b[0m                                 Traceback (most recent call last)",
      "\u001b[1;32m<ipython-input-275-a71c344cd1f3>\u001b[0m in \u001b[0;36m<module>\u001b[1;34m()\u001b[0m\n\u001b[0;32m      1\u001b[0m \u001b[1;33m\u001b[0m\u001b[0m\n\u001b[0;32m      2\u001b[0m \u001b[0mtmp2\u001b[0m\u001b[1;33m=\u001b[0m  \u001b[0mtest_data\u001b[0m\u001b[1;33m.\u001b[0m\u001b[0mvalues\u001b[0m\u001b[1;33m\u001b[0m\u001b[0m\n\u001b[1;32m----> 3\u001b[1;33m \u001b[0mtest_data\u001b[0m \u001b[1;33m=\u001b[0m \u001b[0mtorch\u001b[0m\u001b[1;33m.\u001b[0m\u001b[0mfrom_numpy\u001b[0m\u001b[1;33m(\u001b[0m\u001b[0mtmp2\u001b[0m\u001b[1;33m)\u001b[0m\u001b[1;33m.\u001b[0m\u001b[0mfloat\u001b[0m\u001b[1;33m(\u001b[0m\u001b[1;33m)\u001b[0m\u001b[1;33m\u001b[0m\u001b[0m\n\u001b[0m\u001b[0;32m      4\u001b[0m \u001b[0mte\u001b[0m\u001b[1;33m\u001b[0m\u001b[0m\n\u001b[0;32m      5\u001b[0m \u001b[1;31m#torch.FloatTensor(test_data[:fut_pred])\u001b[0m\u001b[1;33m\u001b[0m\u001b[1;33m\u001b[0m\u001b[0m\n",
      "\u001b[1;31mTypeError\u001b[0m: expected np.ndarray (got builtin_function_or_method)"
     ]
    }
   ],
   "source": [
    "tmp2=  test_data.values\n",
    "test_data = torch.from_numpy(tmp2).float()"
   ]
  },
  {
   "cell_type": "code",
   "execution_count": 278,
   "metadata": {
    "collapsed": false
   },
   "outputs": [
    {
     "name": "stdout",
     "output_type": "stream",
     "text": [
      "tensor([[0.6100, 9.2000],\n",
      "        [0.5900, 9.1000],\n",
      "        [0.5700, 9.1000],\n",
      "        [0.5600, 9.1000],\n",
      "        [0.5400, 9.0000],\n",
      "        [0.5300, 9.0000],\n",
      "        [0.5100, 9.0000]])\n"
     ]
    }
   ],
   "source": [
    "actual=test_data[:fut_pred]\n",
    "print(test_data)"
   ]
  },
  {
   "cell_type": "code",
   "execution_count": 269,
   "metadata": {
    "collapsed": false
   },
   "outputs": [
    {
     "data": {
      "text/plain": [
       "tensor([[ 0.6063, 13.5041],\n",
       "        [ 0.6063, 13.5041],\n",
       "        [ 0.6063, 13.5041],\n",
       "        [ 0.6063, 13.5041],\n",
       "        [ 0.6063, 13.5041],\n",
       "        [ 0.6063, 13.5041],\n",
       "        [ 0.6063, 13.5041]])"
      ]
     },
     "execution_count": 269,
     "metadata": {},
     "output_type": "execute_result"
    }
   ],
   "source": [
    "pred= torch.FloatTensor(test_inputs_list[-fut_pred:])\n",
    "pred"
   ]
  },
  {
   "cell_type": "code",
   "execution_count": 279,
   "metadata": {
    "collapsed": false
   },
   "outputs": [
    {
     "data": {
      "image/png": "[encoded data removed]",
      "text/plain": [
       "<Figure size 432x288 with 1 Axes>"
      ]
     },
     "metadata": {
      "needs_background": "light"
     },
     "output_type": "display_data"
    }
   ],
   "source": [
    "plt.title('wh and temp vs week')\n",
    "plt.ylabel('Value')\n",
    "plt.grid(True)\n",
    "plt.autoscale(axis='x', tight=True)\n",
    "x= range(7)\n",
    "plt.plot(x,actual)\n",
    "plt.plot(x,pred)\n",
    "plt.show()\n",
    "\n",
    "#ok so according to this. the actual values were a bit lower for both the wh and the temperature \n"
   ]
  }
 ],
 "metadata": {
  "kernelspec": {
   "display_name": "Python 3",
   "language": "python",
   "name": "python3"
  },
  "language_info": {
   "codemirror_mode": {
    "name": "ipython",
    "version": 3
   },
   "file_extension": ".py",
   "mimetype": "text/x-python",
   "name": "python",
   "nbconvert_exporter": "python",
   "pygments_lexer": "ipython3",
   "version": "3.6.3"
  }
 },
 "nbformat": 4,
 "nbformat_minor": 4
}
